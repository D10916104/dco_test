{
 "cells": [
  {
   "cell_type": "code",
   "execution_count": 1,
   "metadata": {},
   "outputs": [],
   "source": [
    "import numpy as np\n",
    "import tensorflow as tf\n",
    "from tensorflow.keras.datasets import mnist\n",
    "from tensorflow.keras.models import Sequential\n",
    "from tensorflow.keras.layers import Dense\n",
    "from tensorflow.keras.layers import Flatten\n",
    "from tensorflow.keras.layers import Conv2D\n",
    "from tensorflow.keras.layers import MaxPooling2D\n",
    "from tensorflow.keras.layers import Dropout\n",
    "from tensorflow.keras.utils import to_categorical\n",
    "from tensorflow.keras.models import load_model\n",
    "import matplotlib.pyplot as plt\n",
    "import pandas as pd\n",
    "\n"
   ]
  },
  {
   "cell_type": "code",
   "execution_count": 2,
   "metadata": {},
   "outputs": [
    {
     "name": "stdout",
     "output_type": "stream",
     "text": [
      "before--train data shape --> (60000, 28, 28)\n",
      "before--test data shape--> (10000, 28, 28)\n"
     ]
    }
   ],
   "source": [
    "(X_train, Y_train), (X_test, Y_test) = mnist.load_data()\n",
    "print(\"before--train data shape -->\", X_train.shape)\n",
    "print(\"before--test data shape-->\", X_test.shape) "
   ]
  },
  {
   "cell_type": "code",
   "execution_count": 3,
   "metadata": {},
   "outputs": [
    {
     "name": "stdout",
     "output_type": "stream",
     "text": [
      "after--train data shape --> (60000, 28, 28, 1)\n",
      "after--test data shape--> (10000, 28, 28, 1)\n",
      "第一張輸入資料： (28, 28, 1)\n"
     ]
    }
   ],
   "source": [
    "X_train = X_train.reshape(X_train.shape[0], 28, 28, 1).astype(\"float32\")\n",
    "X_test = X_test.reshape(X_test.shape[0], 28, 28, 1).astype(\"float32\")\n",
    "print(\"after--train data shape -->\", X_train.shape)\n",
    "print(\"after--test data shape-->\", X_test.shape) \n",
    "print(\"第一張輸入資料：\", X_train[0].shape)"
   ]
  },
  {
   "cell_type": "code",
   "execution_count": 4,
   "metadata": {},
   "outputs": [
    {
     "name": "stdout",
     "output_type": "stream",
     "text": [
      "Y_train Shape:  (60000, 10)\n",
      "one-hot --> [0. 0. 0. 0. 0. 1. 0. 0. 0. 0.]\n"
     ]
    }
   ],
   "source": [
    "X_train = X_train / 255 \n",
    "X_test = X_test / 255\n",
    "#-- One-hot編碼\n",
    "Y_train_bk = Y_train.copy() # 保留 one hot coding 前，原始載入的資料\n",
    "Y_test_bk = Y_test.copy() # 保留 one hot coding 前，原始載入的資料\n",
    "Y_train = to_categorical(Y_train)\n",
    "Y_test = to_categorical(Y_test)\n",
    "print(\"Y_train Shape: \", Y_train.shape) # 每個分類目標值以 10 個位置來表示\n",
    "print(\"one-hot -->\",Y_train[0]) # 10 個位置僅是 target 的地方是 1"
   ]
  },
  {
   "cell_type": "code",
   "execution_count": 5,
   "metadata": {},
   "outputs": [
    {
     "name": "stdout",
     "output_type": "stream",
     "text": [
      "Model: \"sequential\"\n",
      "_________________________________________________________________\n",
      "Layer (type)                 Output Shape              Param #   \n",
      "=================================================================\n",
      "conv2d (Conv2D)              (None, 28, 28, 16)        416       \n",
      "_________________________________________________________________\n",
      "max_pooling2d (MaxPooling2D) (None, 14, 14, 16)        0         \n",
      "_________________________________________________________________\n",
      "conv2d_1 (Conv2D)            (None, 14, 14, 32)        12832     \n",
      "_________________________________________________________________\n",
      "max_pooling2d_1 (MaxPooling2 (None, 7, 7, 32)          0         \n",
      "_________________________________________________________________\n",
      "dropout (Dropout)            (None, 7, 7, 32)          0         \n",
      "_________________________________________________________________\n",
      "flatten (Flatten)            (None, 1568)              0         \n",
      "_________________________________________________________________\n",
      "dense (Dense)                (None, 128)               200832    \n",
      "_________________________________________________________________\n",
      "dropout_1 (Dropout)          (None, 128)               0         \n",
      "_________________________________________________________________\n",
      "dense_1 (Dense)              (None, 10)                1290      \n",
      "=================================================================\n",
      "Total params: 215,370\n",
      "Trainable params: 215,370\n",
      "Non-trainable params: 0\n",
      "_________________________________________________________________\n"
     ]
    }
   ],
   "source": [
    "model = Sequential()\n",
    "model.add(Conv2D(16, kernel_size=(5, 5), padding=\"same\",\n",
    "                 input_shape=(28, 28, 1), activation=\"relu\"))\n",
    "model.add(MaxPooling2D(pool_size=(2, 2)))\n",
    "model.add(Conv2D(32, kernel_size=(5, 5), padding=\"same\",\n",
    "                 activation=\"relu\"))\n",
    "model.add(MaxPooling2D(pool_size=(2, 2)))\n",
    "model.add(Dropout(0.5))\n",
    "model.add(Flatten())\n",
    "model.add(Dense(128, activation=\"relu\"))\n",
    "model.add(Dropout(0.5))\n",
    "model.add(Dense(10, activation=\"softmax\"))\n",
    "\n",
    "model.summary()   # 顯示模型摘要資訊\n"
   ]
  },
  {
   "cell_type": "code",
   "execution_count": 6,
   "metadata": {},
   "outputs": [],
   "source": [
    "model.compile(loss=\"categorical_crossentropy\", optimizer=\"adam\",\n",
    "              metrics=[\"accuracy\"])"
   ]
  },
  {
   "cell_type": "code",
   "execution_count": 7,
   "metadata": {},
   "outputs": [
    {
     "name": "stdout",
     "output_type": "stream",
     "text": [
      "Epoch 1/10\n",
      "375/375 - 21s - loss: 0.3877 - accuracy: 0.8776 - val_loss: 0.0792 - val_accuracy: 0.9753\n",
      "Epoch 2/10\n",
      "375/375 - 20s - loss: 0.1266 - accuracy: 0.9619 - val_loss: 0.0525 - val_accuracy: 0.9842\n",
      "Epoch 3/10\n",
      "375/375 - 20s - loss: 0.0953 - accuracy: 0.9705 - val_loss: 0.0450 - val_accuracy: 0.9861\n",
      "Epoch 4/10\n",
      "375/375 - 20s - loss: 0.0793 - accuracy: 0.9766 - val_loss: 0.0373 - val_accuracy: 0.9898\n",
      "Epoch 5/10\n",
      "375/375 - 20s - loss: 0.0711 - accuracy: 0.9779 - val_loss: 0.0352 - val_accuracy: 0.9907\n",
      "Epoch 6/10\n",
      "375/375 - 18s - loss: 0.0612 - accuracy: 0.9815 - val_loss: 0.0325 - val_accuracy: 0.9904\n",
      "Epoch 7/10\n",
      "375/375 - 18s - loss: 0.0610 - accuracy: 0.9819 - val_loss: 0.0328 - val_accuracy: 0.9902\n",
      "Epoch 8/10\n",
      "375/375 - 20s - loss: 0.0517 - accuracy: 0.9845 - val_loss: 0.0316 - val_accuracy: 0.9909\n",
      "Epoch 9/10\n",
      "375/375 - 19s - loss: 0.0491 - accuracy: 0.9845 - val_loss: 0.0320 - val_accuracy: 0.9902\n",
      "Epoch 10/10\n",
      "375/375 - 19s - loss: 0.0480 - accuracy: 0.9847 - val_loss: 0.0287 - val_accuracy: 0.9912\n"
     ]
    }
   ],
   "source": [
    "history = model.fit(X_train, Y_train, validation_split=0.2,\n",
    "                    epochs=10, batch_size=128, verbose=2)"
   ]
  },
  {
   "cell_type": "code",
   "execution_count": 8,
   "metadata": {},
   "outputs": [
    {
     "name": "stdout",
     "output_type": "stream",
     "text": [
      "1875/1875 [==============================] - 8s 4ms/step - loss: 0.0179 - accuracy: 0.9945\n",
      "\n",
      "訓練資料集的準確度 = 0.99\n",
      "313/313 [==============================] - 1s 4ms/step - loss: 0.0230 - accuracy: 0.9920\n",
      "測試資料集的準確度 = 0.99\n"
     ]
    }
   ],
   "source": [
    "#---- Evaluation\n",
    "loss, accuracy = model.evaluate(X_train, Y_train)\n",
    "print(\"\\n訓練資料集的準確度 = {:.2f}\".format(accuracy))\n",
    "loss, accuracy = model.evaluate(X_test, Y_test)\n",
    "print(\"測試資料集的準確度 = {:.2f}\".format(accuracy))"
   ]
  },
  {
   "cell_type": "code",
   "execution_count": 9,
   "metadata": {},
   "outputs": [
    {
     "name": "stdout",
     "output_type": "stream",
     "text": [
      "\n",
      "Class of prediction:  [7 2 1 ... 4 5 6]\n",
      "Result of prediction: [[0. 0. 0. ... 1. 0. 0.]\n",
      " [0. 0. 1. ... 0. 0. 0.]\n",
      " [0. 1. 0. ... 0. 0. 0.]\n",
      " ...\n",
      " [0. 0. 0. ... 0. 0. 0.]\n",
      " [0. 0. 0. ... 0. 0. 0.]\n",
      " [0. 0. 0. ... 0. 0. 0.]]\n",
      "Label of testing: [[0. 0. 0. ... 1. 0. 0.]\n",
      " [0. 0. 1. ... 0. 0. 0.]\n",
      " [0. 1. 0. ... 0. 0. 0.]\n",
      " ...\n",
      " [0. 0. 0. ... 0. 0. 0.]\n",
      " [0. 0. 0. ... 0. 0. 0.]\n",
      " [0. 0. 0. ... 0. 0. 0.]]\n"
     ]
    }
   ],
   "source": [
    "#---- Prediction\n",
    "#  Y_pred = model.predict_classes(X_test) # index of the label with maximum possibility in output layer\n",
    "# np.argmax(model.predict(X_test), axis=-1)取代model.predict_classes(X_test)\n",
    "Y_pred =np.argmax(model.predict(X_test), axis=-1)\n",
    "ps = model.predict(X_test) # the content of nodes in output layer\n",
    "ps = ps.round(1) # round to one digit after dot\n",
    "tb = pd.crosstab(Y_test_bk.astype(int), Y_pred.astype(int),\n",
    "                 rownames=[\"label\"], colnames=[\"predict\"])\n",
    "tb.to_html(\"mnist_crosstab.html\") # pd.crosstab 目標類別跟預測類別進行比對\n",
    "print(\"\\nClass of prediction: \", Y_pred)\n",
    "print(\"Result of prediction:\", ps)\n",
    "print(\"Label of testing:\", Y_test)"
   ]
  },
  {
   "cell_type": "code",
   "execution_count": 10,
   "metadata": {},
   "outputs": [],
   "source": [
    "#---- Save model\n",
    "model.save(\"mnist_CNN.h5\")"
   ]
  },
  {
   "cell_type": "code",
   "execution_count": 11,
   "metadata": {},
   "outputs": [
    {
     "data": {
      "image/png": "[encoded data removed]",
      "text/plain": [
       "<Figure size 432x288 with 1 Axes>"
      ]
     },
     "metadata": {
      "needs_background": "light"
     },
     "output_type": "display_data"
    }
   ],
   "source": [
    "#---- 以圖表來分析模型的訓練過程\n",
    "# 顯示訓練和驗證損失\n",
    "loss = history.history[\"loss\"]\n",
    "epochs = range(1, len(loss)+1)\n",
    "val_loss = history.history[\"val_loss\"]\n",
    "plt.plot(epochs, loss, \"bo-\", label=\"Training Loss\")\n",
    "plt.plot(epochs, val_loss, \"ro--\", label=\"Validation Loss\")\n",
    "plt.title(\"Training and Validation Loss\")\n",
    "plt.xlabel(\"Epochs\")\n",
    "plt.ylabel(\"Loss\")\n",
    "plt.legend()\n",
    "plt.show()"
   ]
  },
  {
   "cell_type": "code",
   "execution_count": 12,
   "metadata": {},
   "outputs": [
    {
     "data": {
      "image/png": "[encoded data removed]",
      "text/plain": [
       "<Figure size 432x288 with 1 Axes>"
      ]
     },
     "metadata": {
      "needs_background": "light"
     },
     "output_type": "display_data"
    }
   ],
   "source": [
    "# 顯示訓練和驗證準確度\n",
    "acc = history.history[\"accuracy\"]\n",
    "epochs = range(1, len(acc)+1)\n",
    "val_acc = history.history[\"val_accuracy\"]\n",
    "plt.plot(epochs, acc, \"bo-\", label=\"Training Acc\")\n",
    "plt.plot(epochs, val_acc, \"ro--\", label=\"Validation Acc\")\n",
    "plt.title(\"Training and Validation Accuracy\")\n",
    "plt.xlabel(\"Epochs\")\n",
    "plt.ylabel(\"Accuracy\")\n",
    "plt.legend()\n",
    "plt.show()"
   ]
  }
 ],
 "metadata": {
  "interpreter": {
   "hash": "05ece30799c2dcdac4c13b3af20453da19de8df0d9a1de52cff7e0b6e1e82bdd"
  },
  "kernelspec": {
   "display_name": "Python 3.6.8 64-bit",
   "language": "python",
   "name": "python3"
  },
  "language_info": {
   "codemirror_mode": {
    "name": "ipython",
    "version": 3
   },
   "file_extension": ".py",
   "mimetype": "text/x-python",
   "name": "python",
   "nbconvert_exporter": "python",
   "pygments_lexer": "ipython3",
   "version": "3.6.8"
  },
  "metadata": {
   "interpreter": {
    "hash": "05ece30799c2dcdac4c13b3af20453da19de8df0d9a1de52cff7e0b6e1e82bdd"
   }
  },
  "orig_nbformat": 2
 },
 "nbformat": 4,
 "nbformat_minor": 2
}
